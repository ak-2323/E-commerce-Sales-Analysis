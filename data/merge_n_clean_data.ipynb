{
 "cells": [
  {
   "cell_type": "code",
   "execution_count": 1,
   "id": "e475ebd0",
   "metadata": {},
   "outputs": [
    {
     "name": "stdout",
     "output_type": "stream",
     "text": [
      "Merged: df_Customers.csv → Customers.csv\n",
      "Merged: df_OrderItems.csv → OrderItems.csv\n",
      "Merged: df_Orders.csv → Orders.csv\n",
      "Merged: df_Payments.csv → Payments.csv\n",
      "Merged: df_Products.csv → Products.csv\n"
     ]
    }
   ],
   "source": [
    "import pandas as pd\n",
    "\n",
    "# List of filenames \n",
    "file_names = ['df_Customers.csv', 'df_OrderItems.csv', 'df_Orders.csv', 'df_Payments.csv', 'df_Products.csv']\n",
    "\n",
    "# Loop through each file and merge\n",
    "for file in file_names:\n",
    "    train_path = f'train/{file}'\n",
    "    test_path = f'test/{file}'\n",
    "\n",
    "    # Read both CSV files\n",
    "    train_df = pd.read_csv(train_path)\n",
    "    test_df = pd.read_csv(test_path)\n",
    "\n",
    "    # Merge them\n",
    "    merged_df = pd.concat([train_df, test_df], ignore_index=True)\n",
    "\n",
    "    # Save to a new merged file\n",
    "    new_file_name = file.replace('df_', '')\n",
    "    merged_df.to_csv(f'{new_file_name}', index=False)\n",
    "    print(f'Merged: {file} → {new_file_name}')\n"
   ]
  },
  {
   "cell_type": "markdown",
   "id": "47be5f62",
   "metadata": {},
   "source": [
    "## Data Cleaning"
   ]
  },
  {
   "cell_type": "markdown",
   "id": "7e631cb7",
   "metadata": {},
   "source": [
    "### Customer Data"
   ]
  },
  {
   "cell_type": "code",
   "execution_count": 3,
   "id": "8573d16d",
   "metadata": {},
   "outputs": [
    {
     "data": {
      "text/html": [
       "<div>\n",
       "<style scoped>\n",
       "    .dataframe tbody tr th:only-of-type {\n",
       "        vertical-align: middle;\n",
       "    }\n",
       "\n",
       "    .dataframe tbody tr th {\n",
       "        vertical-align: top;\n",
       "    }\n",
       "\n",
       "    .dataframe thead th {\n",
       "        text-align: right;\n",
       "    }\n",
       "</style>\n",
       "<table border=\"1\" class=\"dataframe\">\n",
       "  <thead>\n",
       "    <tr style=\"text-align: right;\">\n",
       "      <th></th>\n",
       "      <th>customer_id</th>\n",
       "      <th>customer_zip_code_prefix</th>\n",
       "      <th>customer_city</th>\n",
       "      <th>customer_state</th>\n",
       "    </tr>\n",
       "  </thead>\n",
       "  <tbody>\n",
       "    <tr>\n",
       "      <th>0</th>\n",
       "      <td>hCT0x9JiGXBQ</td>\n",
       "      <td>58125</td>\n",
       "      <td>varzea paulista</td>\n",
       "      <td>SP</td>\n",
       "    </tr>\n",
       "    <tr>\n",
       "      <th>1</th>\n",
       "      <td>PxA7fv9spyhx</td>\n",
       "      <td>3112</td>\n",
       "      <td>armacao dos buzios</td>\n",
       "      <td>RJ</td>\n",
       "    </tr>\n",
       "    <tr>\n",
       "      <th>2</th>\n",
       "      <td>g3nXeJkGI0Qw</td>\n",
       "      <td>4119</td>\n",
       "      <td>jandira</td>\n",
       "      <td>SP</td>\n",
       "    </tr>\n",
       "    <tr>\n",
       "      <th>3</th>\n",
       "      <td>EOEsCQ6QlpIg</td>\n",
       "      <td>18212</td>\n",
       "      <td>uberlandia</td>\n",
       "      <td>MG</td>\n",
       "    </tr>\n",
       "    <tr>\n",
       "      <th>4</th>\n",
       "      <td>mVz5LO2Vd6cL</td>\n",
       "      <td>88868</td>\n",
       "      <td>ilhabela</td>\n",
       "      <td>SP</td>\n",
       "    </tr>\n",
       "  </tbody>\n",
       "</table>\n",
       "</div>"
      ],
      "text/plain": [
       "    customer_id  customer_zip_code_prefix       customer_city customer_state\n",
       "0  hCT0x9JiGXBQ                     58125     varzea paulista             SP\n",
       "1  PxA7fv9spyhx                      3112  armacao dos buzios             RJ\n",
       "2  g3nXeJkGI0Qw                      4119             jandira             SP\n",
       "3  EOEsCQ6QlpIg                     18212          uberlandia             MG\n",
       "4  mVz5LO2Vd6cL                     88868            ilhabela             SP"
      ]
     },
     "execution_count": 3,
     "metadata": {},
     "output_type": "execute_result"
    }
   ],
   "source": [
    "# import customers data \n",
    "customers = pd.read_csv('customers.csv')\n",
    "customers.head(5) "
   ]
  },
  {
   "cell_type": "code",
   "execution_count": 20,
   "id": "1019c0b5",
   "metadata": {},
   "outputs": [
    {
     "name": "stdout",
     "output_type": "stream",
     "text": [
      "<class 'pandas.core.frame.DataFrame'>\n",
      "RangeIndex: 127595 entries, 0 to 127594\n",
      "Data columns (total 4 columns):\n",
      " #   Column                    Non-Null Count   Dtype \n",
      "---  ------                    --------------   ----- \n",
      " 0   customer_id               127595 non-null  object\n",
      " 1   customer_zip_code_prefix  127595 non-null  int64 \n",
      " 2   customer_city             127595 non-null  object\n",
      " 3   customer_state            127595 non-null  object\n",
      "dtypes: int64(1), object(3)\n",
      "memory usage: 3.9+ MB\n"
     ]
    }
   ],
   "source": [
    "customers.info() # check the data types and null values"
   ]
  },
  {
   "cell_type": "code",
   "execution_count": 11,
   "id": "39e79326",
   "metadata": {},
   "outputs": [
    {
     "data": {
      "text/plain": [
       "0"
      ]
     },
     "execution_count": 11,
     "metadata": {},
     "output_type": "execute_result"
    }
   ],
   "source": [
    "# check for duplicates\n",
    "duplicates = customers.duplicated().sum()\n",
    "duplicates"
   ]
  },
  {
   "cell_type": "markdown",
   "id": "1ae71bce",
   "metadata": {},
   "source": [
    "### Orders Data"
   ]
  },
  {
   "cell_type": "code",
   "execution_count": 12,
   "id": "bb75688f",
   "metadata": {},
   "outputs": [
    {
     "data": {
      "text/html": [
       "<div>\n",
       "<style scoped>\n",
       "    .dataframe tbody tr th:only-of-type {\n",
       "        vertical-align: middle;\n",
       "    }\n",
       "\n",
       "    .dataframe tbody tr th {\n",
       "        vertical-align: top;\n",
       "    }\n",
       "\n",
       "    .dataframe thead th {\n",
       "        text-align: right;\n",
       "    }\n",
       "</style>\n",
       "<table border=\"1\" class=\"dataframe\">\n",
       "  <thead>\n",
       "    <tr style=\"text-align: right;\">\n",
       "      <th></th>\n",
       "      <th>order_id</th>\n",
       "      <th>customer_id</th>\n",
       "      <th>order_status</th>\n",
       "      <th>order_purchase_timestamp</th>\n",
       "      <th>order_approved_at</th>\n",
       "      <th>order_delivered_timestamp</th>\n",
       "      <th>order_estimated_delivery_date</th>\n",
       "    </tr>\n",
       "  </thead>\n",
       "  <tbody>\n",
       "    <tr>\n",
       "      <th>0</th>\n",
       "      <td>Axfy13Hk4PIk</td>\n",
       "      <td>hCT0x9JiGXBQ</td>\n",
       "      <td>delivered</td>\n",
       "      <td>2017-10-22 18:57:54</td>\n",
       "      <td>2017-10-22 19:14:13</td>\n",
       "      <td>2017-10-26 22:19:52</td>\n",
       "      <td>2017-11-09</td>\n",
       "    </tr>\n",
       "    <tr>\n",
       "      <th>1</th>\n",
       "      <td>v6px92oS8cLG</td>\n",
       "      <td>PxA7fv9spyhx</td>\n",
       "      <td>delivered</td>\n",
       "      <td>2018-06-20 21:40:31</td>\n",
       "      <td>2018-06-20 22:20:20</td>\n",
       "      <td>2018-07-03 22:51:22</td>\n",
       "      <td>2018-07-24</td>\n",
       "    </tr>\n",
       "    <tr>\n",
       "      <th>2</th>\n",
       "      <td>Ulpf9skrhjfm</td>\n",
       "      <td>g3nXeJkGI0Qw</td>\n",
       "      <td>delivered</td>\n",
       "      <td>2018-02-16 16:19:31</td>\n",
       "      <td>2018-02-17 16:15:35</td>\n",
       "      <td>2018-02-27 01:29:50</td>\n",
       "      <td>2018-03-08</td>\n",
       "    </tr>\n",
       "    <tr>\n",
       "      <th>3</th>\n",
       "      <td>bwJVWupf2keN</td>\n",
       "      <td>EOEsCQ6QlpIg</td>\n",
       "      <td>delivered</td>\n",
       "      <td>2018-08-18 18:04:29</td>\n",
       "      <td>2018-08-18 18:15:16</td>\n",
       "      <td>2018-08-27 20:03:51</td>\n",
       "      <td>2018-09-19</td>\n",
       "    </tr>\n",
       "    <tr>\n",
       "      <th>4</th>\n",
       "      <td>Dd0QnrMk9Cj5</td>\n",
       "      <td>mVz5LO2Vd6cL</td>\n",
       "      <td>delivered</td>\n",
       "      <td>2017-12-22 16:44:04</td>\n",
       "      <td>2017-12-22 17:31:31</td>\n",
       "      <td>2018-01-05 19:22:49</td>\n",
       "      <td>2018-01-18</td>\n",
       "    </tr>\n",
       "  </tbody>\n",
       "</table>\n",
       "</div>"
      ],
      "text/plain": [
       "       order_id   customer_id order_status order_purchase_timestamp  \\\n",
       "0  Axfy13Hk4PIk  hCT0x9JiGXBQ    delivered      2017-10-22 18:57:54   \n",
       "1  v6px92oS8cLG  PxA7fv9spyhx    delivered      2018-06-20 21:40:31   \n",
       "2  Ulpf9skrhjfm  g3nXeJkGI0Qw    delivered      2018-02-16 16:19:31   \n",
       "3  bwJVWupf2keN  EOEsCQ6QlpIg    delivered      2018-08-18 18:04:29   \n",
       "4  Dd0QnrMk9Cj5  mVz5LO2Vd6cL    delivered      2017-12-22 16:44:04   \n",
       "\n",
       "     order_approved_at order_delivered_timestamp order_estimated_delivery_date  \n",
       "0  2017-10-22 19:14:13       2017-10-26 22:19:52                    2017-11-09  \n",
       "1  2018-06-20 22:20:20       2018-07-03 22:51:22                    2018-07-24  \n",
       "2  2018-02-17 16:15:35       2018-02-27 01:29:50                    2018-03-08  \n",
       "3  2018-08-18 18:15:16       2018-08-27 20:03:51                    2018-09-19  \n",
       "4  2017-12-22 17:31:31       2018-01-05 19:22:49                    2018-01-18  "
      ]
     },
     "execution_count": 12,
     "metadata": {},
     "output_type": "execute_result"
    }
   ],
   "source": [
    "# import orders data\n",
    "orders = pd.read_csv('orders.csv')\n",
    "orders.head(5)"
   ]
  },
  {
   "cell_type": "code",
   "execution_count": null,
   "id": "a927caf4",
   "metadata": {},
   "outputs": [
    {
     "name": "stdout",
     "output_type": "stream",
     "text": [
      "<class 'pandas.core.frame.DataFrame'>\n",
      "RangeIndex: 127595 entries, 0 to 127594\n",
      "Data columns (total 7 columns):\n",
      " #   Column                         Non-Null Count   Dtype \n",
      "---  ------                         --------------   ----- \n",
      " 0   order_id                       127595 non-null  object\n",
      " 1   customer_id                    127595 non-null  object\n",
      " 2   order_status                   89316 non-null   object\n",
      " 3   order_purchase_timestamp       127595 non-null  object\n",
      " 4   order_approved_at              127579 non-null  object\n",
      " 5   order_delivered_timestamp      87427 non-null   object\n",
      " 6   order_estimated_delivery_date  89316 non-null   object\n",
      "dtypes: object(7)\n",
      "memory usage: 6.8+ MB\n"
     ]
    }
   ],
   "source": [
    "orders.info() # check for data types and null values"
   ]
  },
  {
   "cell_type": "code",
   "execution_count": 13,
   "id": "953052e6",
   "metadata": {},
   "outputs": [
    {
     "data": {
      "text/plain": [
       "order_id                             0\n",
       "customer_id                          0\n",
       "order_status                     38279\n",
       "order_purchase_timestamp             0\n",
       "order_approved_at                   16\n",
       "order_delivered_timestamp        40168\n",
       "order_estimated_delivery_date    38279\n",
       "dtype: int64"
      ]
     },
     "execution_count": 13,
     "metadata": {},
     "output_type": "execute_result"
    }
   ],
   "source": [
    "orders.isnull().sum() # check for missing values"
   ]
  },
  {
   "cell_type": "code",
   "execution_count": 15,
   "id": "dc567c89",
   "metadata": {},
   "outputs": [
    {
     "data": {
      "text/plain": [
       "delivered      87428\n",
       "shipped          936\n",
       "canceled         409\n",
       "processing       273\n",
       "invoiced         266\n",
       "unavailable        2\n",
       "approved           2\n",
       "Name: order_status, dtype: int64"
      ]
     },
     "execution_count": 15,
     "metadata": {},
     "output_type": "execute_result"
    }
   ],
   "source": [
    "# check for unique values in order_status\n",
    "orders['order_status'].value_counts() "
   ]
  },
  {
   "cell_type": "markdown",
   "id": "841ab404",
   "metadata": {},
   "source": [
    "Here, we replace null values of `order_status` with \"unavailable\" as we don't have sufficient information."
   ]
  },
  {
   "cell_type": "code",
   "execution_count": 16,
   "id": "6bcddbae",
   "metadata": {},
   "outputs": [
    {
     "data": {
      "text/plain": [
       "order_id                             0\n",
       "customer_id                          0\n",
       "order_status                         0\n",
       "order_purchase_timestamp             0\n",
       "order_approved_at                   16\n",
       "order_delivered_timestamp        40168\n",
       "order_estimated_delivery_date    38279\n",
       "dtype: int64"
      ]
     },
     "execution_count": 16,
     "metadata": {},
     "output_type": "execute_result"
    }
   ],
   "source": [
    "# impute the null values with 'unavailable'\n",
    "orders['order_status'].fillna('unavailable', inplace=True)\n",
    "orders.isnull().sum() # check for missing values"
   ]
  },
  {
   "cell_type": "markdown",
   "id": "a0148f93",
   "metadata": {},
   "source": [
    "Here, we will not replace the null values in others column as it is justifiable that order's approved time, delivered time and estimated delivery date can be empty is order is just placed or in process."
   ]
  },
  {
   "cell_type": "code",
   "execution_count": 21,
   "id": "5f2b1772",
   "metadata": {},
   "outputs": [
    {
     "data": {
      "text/plain": [
       "0"
      ]
     },
     "execution_count": 21,
     "metadata": {},
     "output_type": "execute_result"
    }
   ],
   "source": [
    "# check for duplicates\n",
    "duplicates = orders.duplicated().sum()\n",
    "duplicates"
   ]
  },
  {
   "cell_type": "code",
   "execution_count": 34,
   "id": "017ffa85",
   "metadata": {},
   "outputs": [],
   "source": [
    "# save the cleaned orders data\n",
    "orders.to_csv('orders.csv', index=False)"
   ]
  },
  {
   "cell_type": "markdown",
   "id": "288e2e89",
   "metadata": {},
   "source": [
    "### Order Items Data"
   ]
  },
  {
   "cell_type": "code",
   "execution_count": 18,
   "id": "ad9e42cd",
   "metadata": {},
   "outputs": [
    {
     "data": {
      "text/html": [
       "<div>\n",
       "<style scoped>\n",
       "    .dataframe tbody tr th:only-of-type {\n",
       "        vertical-align: middle;\n",
       "    }\n",
       "\n",
       "    .dataframe tbody tr th {\n",
       "        vertical-align: top;\n",
       "    }\n",
       "\n",
       "    .dataframe thead th {\n",
       "        text-align: right;\n",
       "    }\n",
       "</style>\n",
       "<table border=\"1\" class=\"dataframe\">\n",
       "  <thead>\n",
       "    <tr style=\"text-align: right;\">\n",
       "      <th></th>\n",
       "      <th>order_id</th>\n",
       "      <th>product_id</th>\n",
       "      <th>seller_id</th>\n",
       "      <th>price</th>\n",
       "      <th>shipping_charges</th>\n",
       "    </tr>\n",
       "  </thead>\n",
       "  <tbody>\n",
       "    <tr>\n",
       "      <th>0</th>\n",
       "      <td>Axfy13Hk4PIk</td>\n",
       "      <td>90K0C1fIyQUf</td>\n",
       "      <td>ZWM05J9LcBSF</td>\n",
       "      <td>223.51</td>\n",
       "      <td>84.65</td>\n",
       "    </tr>\n",
       "    <tr>\n",
       "      <th>1</th>\n",
       "      <td>v6px92oS8cLG</td>\n",
       "      <td>qejhpMGGVcsl</td>\n",
       "      <td>IjlpYfhUbRQs</td>\n",
       "      <td>170.80</td>\n",
       "      <td>23.79</td>\n",
       "    </tr>\n",
       "    <tr>\n",
       "      <th>2</th>\n",
       "      <td>Ulpf9skrhjfm</td>\n",
       "      <td>qUS5d2pEAyxJ</td>\n",
       "      <td>77p2EYxcM9MD</td>\n",
       "      <td>64.40</td>\n",
       "      <td>17.38</td>\n",
       "    </tr>\n",
       "    <tr>\n",
       "      <th>3</th>\n",
       "      <td>bwJVWupf2keN</td>\n",
       "      <td>639iGvMyv0De</td>\n",
       "      <td>jWzS0ayv9TGf</td>\n",
       "      <td>264.50</td>\n",
       "      <td>30.72</td>\n",
       "    </tr>\n",
       "    <tr>\n",
       "      <th>4</th>\n",
       "      <td>Dd0QnrMk9Cj5</td>\n",
       "      <td>1lycYGcsic2F</td>\n",
       "      <td>l1pYW6GBnPMr</td>\n",
       "      <td>779.90</td>\n",
       "      <td>30.66</td>\n",
       "    </tr>\n",
       "  </tbody>\n",
       "</table>\n",
       "</div>"
      ],
      "text/plain": [
       "       order_id    product_id     seller_id   price  shipping_charges\n",
       "0  Axfy13Hk4PIk  90K0C1fIyQUf  ZWM05J9LcBSF  223.51             84.65\n",
       "1  v6px92oS8cLG  qejhpMGGVcsl  IjlpYfhUbRQs  170.80             23.79\n",
       "2  Ulpf9skrhjfm  qUS5d2pEAyxJ  77p2EYxcM9MD   64.40             17.38\n",
       "3  bwJVWupf2keN  639iGvMyv0De  jWzS0ayv9TGf  264.50             30.72\n",
       "4  Dd0QnrMk9Cj5  1lycYGcsic2F  l1pYW6GBnPMr  779.90             30.66"
      ]
     },
     "execution_count": 18,
     "metadata": {},
     "output_type": "execute_result"
    }
   ],
   "source": [
    "# import orderitems data\n",
    "orderitems = pd.read_csv('orderitems.csv')\n",
    "orderitems.head(5)"
   ]
  },
  {
   "cell_type": "code",
   "execution_count": 19,
   "id": "99aeff3f",
   "metadata": {},
   "outputs": [
    {
     "name": "stdout",
     "output_type": "stream",
     "text": [
      "<class 'pandas.core.frame.DataFrame'>\n",
      "RangeIndex: 127595 entries, 0 to 127594\n",
      "Data columns (total 5 columns):\n",
      " #   Column            Non-Null Count   Dtype  \n",
      "---  ------            --------------   -----  \n",
      " 0   order_id          127595 non-null  object \n",
      " 1   product_id        127595 non-null  object \n",
      " 2   seller_id         127595 non-null  object \n",
      " 3   price             127595 non-null  float64\n",
      " 4   shipping_charges  127595 non-null  float64\n",
      "dtypes: float64(2), object(3)\n",
      "memory usage: 4.9+ MB\n"
     ]
    }
   ],
   "source": [
    "orderitems.info() # check for data types and null values"
   ]
  },
  {
   "cell_type": "code",
   "execution_count": 24,
   "id": "10a1dd31",
   "metadata": {},
   "outputs": [
    {
     "data": {
      "text/plain": [
       "0         False\n",
       "1         False\n",
       "2         False\n",
       "3         False\n",
       "4         False\n",
       "          ...  \n",
       "127590    False\n",
       "127591    False\n",
       "127592    False\n",
       "127593    False\n",
       "127594    False\n",
       "Length: 127595, dtype: bool"
      ]
     },
     "execution_count": 24,
     "metadata": {},
     "output_type": "execute_result"
    }
   ],
   "source": [
    "# check for duplicates\n",
    "duplicates = orderitems.duplicated().sum()\n",
    "duplicates"
   ]
  },
  {
   "cell_type": "markdown",
   "id": "a6ca9f9a",
   "metadata": {},
   "source": [
    "### Products Data"
   ]
  },
  {
   "cell_type": "code",
   "execution_count": 25,
   "id": "06cfc8a0",
   "metadata": {},
   "outputs": [
    {
     "data": {
      "text/html": [
       "<div>\n",
       "<style scoped>\n",
       "    .dataframe tbody tr th:only-of-type {\n",
       "        vertical-align: middle;\n",
       "    }\n",
       "\n",
       "    .dataframe tbody tr th {\n",
       "        vertical-align: top;\n",
       "    }\n",
       "\n",
       "    .dataframe thead th {\n",
       "        text-align: right;\n",
       "    }\n",
       "</style>\n",
       "<table border=\"1\" class=\"dataframe\">\n",
       "  <thead>\n",
       "    <tr style=\"text-align: right;\">\n",
       "      <th></th>\n",
       "      <th>product_id</th>\n",
       "      <th>product_category_name</th>\n",
       "      <th>product_weight_g</th>\n",
       "      <th>product_length_cm</th>\n",
       "      <th>product_height_cm</th>\n",
       "      <th>product_width_cm</th>\n",
       "    </tr>\n",
       "  </thead>\n",
       "  <tbody>\n",
       "    <tr>\n",
       "      <th>0</th>\n",
       "      <td>90K0C1fIyQUf</td>\n",
       "      <td>toys</td>\n",
       "      <td>491.0</td>\n",
       "      <td>19.0</td>\n",
       "      <td>12.0</td>\n",
       "      <td>16.0</td>\n",
       "    </tr>\n",
       "    <tr>\n",
       "      <th>1</th>\n",
       "      <td>qejhpMGGVcsl</td>\n",
       "      <td>watches_gifts</td>\n",
       "      <td>440.0</td>\n",
       "      <td>18.0</td>\n",
       "      <td>14.0</td>\n",
       "      <td>17.0</td>\n",
       "    </tr>\n",
       "    <tr>\n",
       "      <th>2</th>\n",
       "      <td>qUS5d2pEAyxJ</td>\n",
       "      <td>costruction_tools_garden</td>\n",
       "      <td>2200.0</td>\n",
       "      <td>16.0</td>\n",
       "      <td>16.0</td>\n",
       "      <td>16.0</td>\n",
       "    </tr>\n",
       "    <tr>\n",
       "      <th>3</th>\n",
       "      <td>639iGvMyv0De</td>\n",
       "      <td>toys</td>\n",
       "      <td>1450.0</td>\n",
       "      <td>68.0</td>\n",
       "      <td>3.0</td>\n",
       "      <td>48.0</td>\n",
       "    </tr>\n",
       "    <tr>\n",
       "      <th>4</th>\n",
       "      <td>1lycYGcsic2F</td>\n",
       "      <td>toys</td>\n",
       "      <td>300.0</td>\n",
       "      <td>17.0</td>\n",
       "      <td>4.0</td>\n",
       "      <td>12.0</td>\n",
       "    </tr>\n",
       "  </tbody>\n",
       "</table>\n",
       "</div>"
      ],
      "text/plain": [
       "     product_id     product_category_name  product_weight_g  \\\n",
       "0  90K0C1fIyQUf                      toys             491.0   \n",
       "1  qejhpMGGVcsl             watches_gifts             440.0   \n",
       "2  qUS5d2pEAyxJ  costruction_tools_garden            2200.0   \n",
       "3  639iGvMyv0De                      toys            1450.0   \n",
       "4  1lycYGcsic2F                      toys             300.0   \n",
       "\n",
       "   product_length_cm  product_height_cm  product_width_cm  \n",
       "0               19.0               12.0              16.0  \n",
       "1               18.0               14.0              17.0  \n",
       "2               16.0               16.0              16.0  \n",
       "3               68.0                3.0              48.0  \n",
       "4               17.0                4.0              12.0  "
      ]
     },
     "execution_count": 25,
     "metadata": {},
     "output_type": "execute_result"
    }
   ],
   "source": [
    "# import products data \n",
    "products = pd.read_csv('products.csv')\n",
    "products.head(5) "
   ]
  },
  {
   "cell_type": "code",
   "execution_count": 26,
   "id": "02ff51cb",
   "metadata": {},
   "outputs": [
    {
     "name": "stdout",
     "output_type": "stream",
     "text": [
      "<class 'pandas.core.frame.DataFrame'>\n",
      "RangeIndex: 127595 entries, 0 to 127594\n",
      "Data columns (total 6 columns):\n",
      " #   Column                 Non-Null Count   Dtype  \n",
      "---  ------                 --------------   -----  \n",
      " 0   product_id             127595 non-null  object \n",
      " 1   product_category_name  127119 non-null  object \n",
      " 2   product_weight_g       127570 non-null  float64\n",
      " 3   product_length_cm      127570 non-null  float64\n",
      " 4   product_height_cm      127570 non-null  float64\n",
      " 5   product_width_cm       127570 non-null  float64\n",
      "dtypes: float64(4), object(2)\n",
      "memory usage: 5.8+ MB\n"
     ]
    }
   ],
   "source": [
    "products.info() # check for data types and null values"
   ]
  },
  {
   "cell_type": "code",
   "execution_count": 27,
   "id": "4a27c444",
   "metadata": {},
   "outputs": [
    {
     "data": {
      "text/plain": [
       "product_id                 0\n",
       "product_category_name    476\n",
       "product_weight_g          25\n",
       "product_length_cm         25\n",
       "product_height_cm         25\n",
       "product_width_cm          25\n",
       "dtype: int64"
      ]
     },
     "execution_count": 27,
     "metadata": {},
     "output_type": "execute_result"
    }
   ],
   "source": [
    "products.isnull().sum() # check for missing values"
   ]
  },
  {
   "cell_type": "code",
   "execution_count": 29,
   "id": "a5bb1285",
   "metadata": {},
   "outputs": [
    {
     "data": {
      "text/plain": [
       "product_id                0\n",
       "product_category_name     0\n",
       "product_weight_g         25\n",
       "product_length_cm        25\n",
       "product_height_cm        25\n",
       "product_width_cm         25\n",
       "dtype: int64"
      ]
     },
     "execution_count": 29,
     "metadata": {},
     "output_type": "execute_result"
    }
   ],
   "source": [
    "# remove null values in product_name\n",
    "products.dropna(subset=['product_category_name'], inplace=True)\n",
    "products.isnull().sum() # check for missing values"
   ]
  },
  {
   "cell_type": "code",
   "execution_count": null,
   "id": "4b5277ec",
   "metadata": {},
   "outputs": [
    {
     "data": {
      "text/plain": [
       "94338"
      ]
     },
     "execution_count": 30,
     "metadata": {},
     "output_type": "execute_result"
    }
   ],
   "source": [
    "# check for duplicates\n",
    "duplicates = products.duplicated().sum()\n",
    "duplicates"
   ]
  },
  {
   "cell_type": "code",
   "execution_count": 31,
   "id": "2ae098f0",
   "metadata": {},
   "outputs": [
    {
     "data": {
      "text/plain": [
       "0"
      ]
     },
     "execution_count": 31,
     "metadata": {},
     "output_type": "execute_result"
    }
   ],
   "source": [
    "# remove duplicates\n",
    "products.drop_duplicates(inplace=True)\n",
    "duplicates = products.duplicated().sum()\n",
    "duplicates"
   ]
  },
  {
   "cell_type": "code",
   "execution_count": 35,
   "id": "71c89c8a",
   "metadata": {},
   "outputs": [],
   "source": [
    "# save the cleaned products data\n",
    "products.to_csv('products.csv', index=False)"
   ]
  },
  {
   "cell_type": "markdown",
   "id": "f6597109",
   "metadata": {},
   "source": [
    "### Payments Data"
   ]
  },
  {
   "cell_type": "code",
   "execution_count": 32,
   "id": "1f862d44",
   "metadata": {},
   "outputs": [
    {
     "data": {
      "text/html": [
       "<div>\n",
       "<style scoped>\n",
       "    .dataframe tbody tr th:only-of-type {\n",
       "        vertical-align: middle;\n",
       "    }\n",
       "\n",
       "    .dataframe tbody tr th {\n",
       "        vertical-align: top;\n",
       "    }\n",
       "\n",
       "    .dataframe thead th {\n",
       "        text-align: right;\n",
       "    }\n",
       "</style>\n",
       "<table border=\"1\" class=\"dataframe\">\n",
       "  <thead>\n",
       "    <tr style=\"text-align: right;\">\n",
       "      <th></th>\n",
       "      <th>order_id</th>\n",
       "      <th>payment_sequential</th>\n",
       "      <th>payment_type</th>\n",
       "      <th>payment_installments</th>\n",
       "      <th>payment_value</th>\n",
       "    </tr>\n",
       "  </thead>\n",
       "  <tbody>\n",
       "    <tr>\n",
       "      <th>0</th>\n",
       "      <td>Axfy13Hk4PIk</td>\n",
       "      <td>1</td>\n",
       "      <td>credit_card</td>\n",
       "      <td>1</td>\n",
       "      <td>259.14</td>\n",
       "    </tr>\n",
       "    <tr>\n",
       "      <th>1</th>\n",
       "      <td>v6px92oS8cLG</td>\n",
       "      <td>1</td>\n",
       "      <td>credit_card</td>\n",
       "      <td>8</td>\n",
       "      <td>382.39</td>\n",
       "    </tr>\n",
       "    <tr>\n",
       "      <th>2</th>\n",
       "      <td>Ulpf9skrhjfm</td>\n",
       "      <td>1</td>\n",
       "      <td>credit_card</td>\n",
       "      <td>4</td>\n",
       "      <td>249.25</td>\n",
       "    </tr>\n",
       "    <tr>\n",
       "      <th>3</th>\n",
       "      <td>bwJVWupf2keN</td>\n",
       "      <td>1</td>\n",
       "      <td>credit_card</td>\n",
       "      <td>2</td>\n",
       "      <td>27.79</td>\n",
       "    </tr>\n",
       "    <tr>\n",
       "      <th>4</th>\n",
       "      <td>Dd0QnrMk9Cj5</td>\n",
       "      <td>1</td>\n",
       "      <td>credit_card</td>\n",
       "      <td>1</td>\n",
       "      <td>76.15</td>\n",
       "    </tr>\n",
       "  </tbody>\n",
       "</table>\n",
       "</div>"
      ],
      "text/plain": [
       "       order_id  payment_sequential payment_type  payment_installments  \\\n",
       "0  Axfy13Hk4PIk                   1  credit_card                     1   \n",
       "1  v6px92oS8cLG                   1  credit_card                     8   \n",
       "2  Ulpf9skrhjfm                   1  credit_card                     4   \n",
       "3  bwJVWupf2keN                   1  credit_card                     2   \n",
       "4  Dd0QnrMk9Cj5                   1  credit_card                     1   \n",
       "\n",
       "   payment_value  \n",
       "0         259.14  \n",
       "1         382.39  \n",
       "2         249.25  \n",
       "3          27.79  \n",
       "4          76.15  "
      ]
     },
     "execution_count": 32,
     "metadata": {},
     "output_type": "execute_result"
    }
   ],
   "source": [
    "# import payments data\n",
    "payments = pd.read_csv('payments.csv')\n",
    "payments.head(5)"
   ]
  },
  {
   "cell_type": "code",
   "execution_count": 33,
   "id": "b4a06d0a",
   "metadata": {},
   "outputs": [
    {
     "name": "stdout",
     "output_type": "stream",
     "text": [
      "<class 'pandas.core.frame.DataFrame'>\n",
      "RangeIndex: 127595 entries, 0 to 127594\n",
      "Data columns (total 5 columns):\n",
      " #   Column                Non-Null Count   Dtype  \n",
      "---  ------                --------------   -----  \n",
      " 0   order_id              127595 non-null  object \n",
      " 1   payment_sequential    127595 non-null  int64  \n",
      " 2   payment_type          127595 non-null  object \n",
      " 3   payment_installments  127595 non-null  int64  \n",
      " 4   payment_value         127595 non-null  float64\n",
      "dtypes: float64(1), int64(2), object(2)\n",
      "memory usage: 4.9+ MB\n"
     ]
    }
   ],
   "source": [
    "payments.info() # check for data types and null values"
   ]
  },
  {
   "cell_type": "code",
   "execution_count": 36,
   "id": "5968a1a7",
   "metadata": {},
   "outputs": [
    {
     "data": {
      "text/plain": [
       "0"
      ]
     },
     "execution_count": 36,
     "metadata": {},
     "output_type": "execute_result"
    }
   ],
   "source": [
    "# check for duplicates\n",
    "duplicates = payments.duplicated().sum()\n",
    "duplicates"
   ]
  },
  {
   "cell_type": "markdown",
   "id": "17f7ec63",
   "metadata": {},
   "source": [
    "**Overall, we merge the train and test file and then clean it by replace or removing null values and removing duplicates. Finally, we get 5 csv files that we can use in sql to drive insights.**"
   ]
  }
 ],
 "metadata": {
  "kernelspec": {
   "display_name": "base",
   "language": "python",
   "name": "python3"
  },
  "language_info": {
   "codemirror_mode": {
    "name": "ipython",
    "version": 3
   },
   "file_extension": ".py",
   "mimetype": "text/x-python",
   "name": "python",
   "nbconvert_exporter": "python",
   "pygments_lexer": "ipython3",
   "version": "3.11.4"
  }
 },
 "nbformat": 4,
 "nbformat_minor": 5
}
